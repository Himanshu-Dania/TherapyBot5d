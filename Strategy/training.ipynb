{
 "cells": [
  {
   "cell_type": "code",
   "execution_count": 1,
   "metadata": {},
   "outputs": [
    {
     "ename": "NameError",
     "evalue": "name 'tokenizer' is not defined",
     "output_type": "error",
     "traceback": [
      "\u001b[0;31m---------------------------------------------------------------------------\u001b[0m",
      "\u001b[0;31mNameError\u001b[0m                                 Traceback (most recent call last)",
      "Cell \u001b[0;32mIn[1], line 5\u001b[0m\n\u001b[1;32m      1\u001b[0m example \u001b[38;5;241m=\u001b[39m \u001b[38;5;124m\"\"\"\u001b[39m\u001b[38;5;124musr: Hi\u001b[39m\n\u001b[1;32m      2\u001b[0m \u001b[38;5;124msys[Question]: Hello, how are you today?\u001b[39m\n\u001b[1;32m      3\u001b[0m \u001b[38;5;124musr: I\u001b[39m\u001b[38;5;124m'\u001b[39m\u001b[38;5;124mm feeling anxious that I am going to lose my job.\u001b[39m\u001b[38;5;124m\"\"\"\u001b[39m\n\u001b[0;32m----> 5\u001b[0m inputs \u001b[38;5;241m=\u001b[39m \u001b[43mtokenizer\u001b[49m(example, return_tensors\u001b[38;5;241m=\u001b[39m\u001b[38;5;124m\"\u001b[39m\u001b[38;5;124mpt\u001b[39m\u001b[38;5;124m\"\u001b[39m)\u001b[38;5;241m.\u001b[39mto(device)\n\u001b[1;32m      6\u001b[0m logits \u001b[38;5;241m=\u001b[39m model(\u001b[38;5;241m*\u001b[39m\u001b[38;5;241m*\u001b[39minputs)\u001b[38;5;241m.\u001b[39mlogits\u001b[38;5;241m.\u001b[39msoftmax(\u001b[38;5;241m-\u001b[39m\u001b[38;5;241m1\u001b[39m)\n\u001b[1;32m      7\u001b[0m \u001b[38;5;28mprint\u001b[39m(logits)\n",
      "\u001b[0;31mNameError\u001b[0m: name 'tokenizer' is not defined"
     ]
    }
   ],
   "source": [
    "\n",
    "example = \"\"\"usr: Hi\n",
    "sys[Question]: Hello, how are you today?\n",
    "usr: I'm feeling anxious that I am going to lose my job.\"\"\"\n",
    "\n",
    "inputs = tokenizer(example, return_tensors=\"pt\").to(device)\n",
    "logits = model(**inputs).logits.softmax(-1)\n",
    "print(logits)\n",
    "\n",
    "label = logits.argmax(-1).item()\n",
    "\n",
    "\n",
    "ESCONV_STRATEGY = [\n",
    "    \"Question\",\n",
    "    \"Restatement or Paraphrasing\",\n",
    "    \"Reflection of feelings\",\n",
    "    \"Self-disclosure\",\n",
    "    \"Affirmation and Reassurance\",\n",
    "    \"Providing Suggestions\",\n",
    "    \"Information\",\n",
    "    \"Others\"\n",
    "]\n",
    "id2label = {i:k for i, k in enumerate(ESCONV_STRATEGY)}\n",
    "\n",
    "print(id2label[label])"
   ]
  },
  {
   "cell_type": "code",
   "execution_count": null,
   "metadata": {},
   "outputs": [],
   "source": [
    "from datasets import load_dataset\n",
    "\n",
    "ds = load_dataset(\"thu-coai/esconv\")"
   ]
  },
  {
   "cell_type": "code",
   "execution_count": null,
   "metadata": {},
   "outputs": [],
   "source": [
    "data=ds[\"train\"][\"text\"]\n",
    "data.extend(ds[\"test\"][\"text\"])\n",
    "data.extend(ds[\"validation\"][\"text\"])\n",
    "\n",
    "data[:5]"
   ]
  },
  {
   "cell_type": "code",
   "execution_count": null,
   "metadata": {},
   "outputs": [],
   "source": [
    "#REDO because they are not in usr-sys order always!\n",
    "\n",
    "import pandas as pd\n",
    "import json\n",
    "\n",
    "# test_data = json.loads(test_data)\n",
    "\n",
    "# Initialize variables for test_dataFrame construction\n",
    "rows = []\n",
    "session_id = 1\n",
    "\n",
    "# Parse the test_data\n",
    "for entry in data:\n",
    "    entry=json.loads(entry)\n",
    "    problem_type = entry.get(\"problem_type\")\n",
    "    emotion_type = entry.get(\"emotion_type\")\n",
    "    situation = entry.get(\"situation\")\n",
    "\n",
    "    # Iterate over dialog entries in pairs\n",
    "    dialog = entry[\"dialog\"]\n",
    "    tmp={\n",
    "        \"text\":\"\",\n",
    "        \"strategy\":[],\n",
    "        \"speaker\":\"\"\n",
    "    }\n",
    "    for text in dialog:\n",
    "        if text[\"speaker\"]==\"usr\" and tmp[\"speaker\"]!=\"sys\":\n",
    "            tmp[\"speaker\"]+=\" \"+text[\"text\"]\n",
    "            \n",
    "        elif text[\"speaker\"]==\"sys\" and tmp[\"speaker\"]!=\"usr\":\n",
    "            tmp[\"strategy\"].append(text[\"strategy\"])\n",
    "        else:\n",
    "            rows.append({\n",
    "                \"problem\": problem_type,\n",
    "                \"emot\"\n",
    "            })\n",
    "            tmp=tmp={\n",
    "                \"text\":\"\",\n",
    "                \"strategy\":[],\n",
    "                \"speaker\":\"\"\n",
    "            }\n",
    "        \n",
    "            \n",
    "    \n",
    "    session_id += 1\n",
    "\n",
    "# Convert to DataFrame\n",
    "df = pd.DataFrame(rows)\n",
    "\n",
    "# Display the DataFrame\n",
    "df.head()\n"
   ]
  }
 ],
 "metadata": {
  "kernelspec": {
   "display_name": "venv",
   "language": "python",
   "name": "python3"
  },
  "language_info": {
   "codemirror_mode": {
    "name": "ipython",
    "version": 3
   },
   "file_extension": ".py",
   "mimetype": "text/x-python",
   "name": "python",
   "nbconvert_exporter": "python",
   "pygments_lexer": "ipython3",
   "version": "3.10.12"
  }
 },
 "nbformat": 4,
 "nbformat_minor": 2
}
